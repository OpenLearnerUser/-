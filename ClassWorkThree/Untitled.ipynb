{
 "cells": [
  {
   "cell_type": "code",
   "execution_count": 5,
   "id": "bc23fff9-7dc9-4f3d-aff9-55fdd2548fef",
   "metadata": {},
   "outputs": [
    {
     "data": {
      "text/plain": [
       "True"
      ]
     },
     "execution_count": 5,
     "metadata": {},
     "output_type": "execute_result"
    }
   ],
   "source": [
    "# Python program to explain cv2.erode() method \n",
    "  \n",
    "# importing cv2 \n",
    "import cv2\n",
    "  \n",
    "# importing numpy \n",
    "import numpy as np\n",
    "\n",
    "%matplotlib inline\n",
    "  \n",
    "# path \n",
    "\n",
    "  \n",
    "# Reading an image in default mode \n",
    "image = cv2.imread(r'./source/fog2.jpg') \n",
    "  \n",
    "# Window name in which image is displayed \n",
    "window_name = 'Image'\n",
    "  \n",
    "# Creating kernel\n",
    "kernel = np.ones((14, 14), np.uint8)\n",
    "  \n",
    "# Using cv2.erode() method \n",
    "image = cv2.erode(image, kernel) \n",
    "  \n",
    "# Displaying the image \n",
    "cv2.imshow(window_name, image) \n",
    "cv2.imwrite('erode.jpg', image)"
   ]
  },
  {
   "cell_type": "code",
   "execution_count": null,
   "id": "9cb784e9-0b62-461b-9274-1d9c1179c770",
   "metadata": {},
   "outputs": [],
   "source": []
  }
 ],
 "metadata": {
  "kernelspec": {
   "display_name": "Python 3 (ipykernel)",
   "language": "python",
   "name": "python3"
  },
  "language_info": {
   "codemirror_mode": {
    "name": "ipython",
    "version": 3
   },
   "file_extension": ".py",
   "mimetype": "text/x-python",
   "name": "python",
   "nbconvert_exporter": "python",
   "pygments_lexer": "ipython3",
   "version": "3.7.13"
  }
 },
 "nbformat": 4,
 "nbformat_minor": 5
}

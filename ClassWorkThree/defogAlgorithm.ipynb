{
 "cells": [
  {
   "cell_type": "code",
   "execution_count": 2,
   "id": "220dd41b-c85d-406c-9294-cf130cca299a",
   "metadata": {},
   "outputs": [],
   "source": [
    "import cv2\n",
    "import numpy as np"
   ]
  },
  {
   "cell_type": "code",
   "execution_count": 9,
   "id": "e616f740-57bd-46da-8a4a-1c091ce6b601",
   "metadata": {},
   "outputs": [],
   "source": [
    "def zmMinFilterGray(src,r=7):\n",
    "    #r是滤波半径\n",
    "   return cv2.erode(src, np.ones((2 * r + 1, 2 * r + 1))) "
   ]
  },
  {
   "cell_type": "code",
   "execution_count": 5,
   "id": "8e951ca8-64dc-404e-86dd-0d26f7ea5a42",
   "metadata": {},
   "outputs": [],
   "source": [
    "def guidedfilter(I, p, r, eps):\n",
    "    #I为原始图形，\n",
    "    height, width = I.shape\n",
    "    m_I = cv2.boxFilter(I, -1, (r, r))\n",
    "    m_p = cv2.boxFilter(p, -1, (r, r))\n",
    "    m_Ip = cv2.boxFilter(I * p, -1, (r, r))\n",
    "    cov_Ip = m_Ip - m_I * m_p\n",
    " \n",
    "    m_II = cv2.boxFilter(I * I, -1, (r, r))\n",
    "    var_I = m_II - m_I * m_I\n",
    " \n",
    "    a = cov_Ip / (var_I + eps)\n",
    "    b = m_p - a * m_I\n",
    " \n",
    "    m_a = cv2.boxFilter(a, -1, (r, r))\n",
    "    m_b = cv2.boxFilter(b, -1, (r, r))\n",
    "    return m_a * I + m_b"
   ]
  },
  {
   "cell_type": "code",
   "execution_count": 10,
   "id": "114ca1a4-f136-4b81-a328-5d7a21758fa1",
   "metadata": {},
   "outputs": [],
   "source": [
    "\n",
    "def getV1(m, r, eps, w, maxV1):  # 输入rgb图像，值范围[0,1]\n",
    "    '''计算大气遮罩图像V1和光照值A, V1 = （1-t）A'''\n",
    "    V1 = np.min(m, 2)  # 得到暗通道图像\n",
    "    V1 = guidedfilter(V1, zmMinFilterGray(V1, 7), r, eps)  # 使用引导滤波优化\n",
    "    bins = 2000\n",
    "    ht = np.histogram(V1, bins)  # 计算大气光照A\n",
    "    d = np.cumsum(ht[0]) / float(V1.size)\n",
    "    for lmax in range(bins - 1, 0, -1):\n",
    "        if d[lmax] <= 0.999:\n",
    "            break\n",
    "    A = np.mean(m, 2)[V1 >= ht[1][lmax]].max()\n",
    " \n",
    "    V1 = np.minimum(V1 * w, maxV1)  # 对值范围进行限制\n",
    " \n",
    "    return V1, A"
   ]
  },
  {
   "cell_type": "code",
   "execution_count": 7,
   "id": "f6a224f1-3d97-42b2-bbdf-5dfe3c799fbc",
   "metadata": {},
   "outputs": [],
   "source": [
    "def deHaze(m, r=81, eps=0.001, w=0.95, maxV1=0.80, bGamma=False):\n",
    "    Y = np.zeros(m.shape)\n",
    "    V1, A = getV1(m, r, eps, w, maxV1)  # 得到遮罩图像和大气光照\n",
    "    for k in range(3):\n",
    "        Y[:, :, k] = (m[:, :, k] - V1) / (1 - V1 / A)  # 颜色校正\n",
    "    Y = np.clip(Y, 0, 1)\n",
    "    if bGamma:\n",
    "        Y = Y ** (np.log(0.5) / np.log(Y.mean()))  # gamma校正,默认不进行该操作\n",
    "    return Y"
   ]
  },
  {
   "cell_type": "code",
   "execution_count": 15,
   "id": "239fb31d-7aba-46bb-92dd-df663d32c87e",
   "metadata": {},
   "outputs": [],
   "source": [
    "if __name__ == '__main__':\n",
    "    m = deHaze(cv2.imread('./source/fog2.jpg') / 255.0) * 255\n",
    "    cv2.imwrite('./source/defog2.jpg', m)"
   ]
  },
  {
   "cell_type": "code",
   "execution_count": null,
   "id": "1636f667-8ef3-4604-8e15-455e2b1e2556",
   "metadata": {},
   "outputs": [],
   "source": []
  }
 ],
 "metadata": {
  "kernelspec": {
   "display_name": "Python 3 (ipykernel)",
   "language": "python",
   "name": "python3"
  },
  "language_info": {
   "codemirror_mode": {
    "name": "ipython",
    "version": 3
   },
   "file_extension": ".py",
   "mimetype": "text/x-python",
   "name": "python",
   "nbconvert_exporter": "python",
   "pygments_lexer": "ipython3",
   "version": "3.7.13"
  }
 },
 "nbformat": 4,
 "nbformat_minor": 5
}
